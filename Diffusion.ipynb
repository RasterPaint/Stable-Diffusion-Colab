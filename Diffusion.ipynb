{
  "cells": [
    {
      "cell_type": "markdown",
      "source": [
        "Install dependencies"
      ],
      "metadata": {
        "id": "xDTQubA56GFm"
      }
    },
    {
      "cell_type": "code",
      "execution_count": null,
      "metadata": {
        "id": "yrtUXwfdg5gV"
      },
      "outputs": [],
      "source": [
        "!pip install -e git+https://github.com/CompVis/taming-transformers.git@master#egg=taming-transformers\n",
        "!pip install pytorch_lightning tensorboard==2.9.1 omegaconf einops taming-transformers==0.0.1 clip transformers kornia test-tube\n",
        "!pip install diffusers invisible-watermark"
      ]
    },
    {
      "cell_type": "markdown",
      "metadata": {
        "id": "w2Hp_J7b5HIw"
      },
      "source": [
        "*push \"restart session\"*\n",
        "\n",
        "---\n",
        "**Install stable diffusion webui**\n",
        "\n"
      ]
    },
    {
      "cell_type": "code",
      "execution_count": 1,
      "metadata": {
        "id": "sXVs8rCy4AjR",
        "colab": {
          "base_uri": "https://localhost:8080/"
        },
        "outputId": "0c783a6a-7883-46b9-a70d-f015ec887544"
      },
      "outputs": [
        {
          "output_type": "stream",
          "name": "stdout",
          "text": [
            "Cloning into '/content/stable-diffusion-webui'...\n",
            "remote: Enumerating objects: 11537, done.\u001b[K\n",
            "remote: Total 11537 (delta 0), reused 0 (delta 0), pack-reused 11537\u001b[K\n",
            "Receiving objects: 100% (11537/11537), 23.92 MiB | 16.35 MiB/s, done.\n",
            "Resolving deltas: 100% (8065/8065), done.\n",
            "/content/stable-diffusion-webui\n",
            "Already up to date.\n"
          ]
        }
      ],
      "source": [
        "!git clone https://github.com/AUTOMATIC1111/stable-diffusion-webui /content/stable-diffusion-webui\n",
        "%cd /content/stable-diffusion-webui\n",
        "!git pull"
      ]
    },
    {
      "cell_type": "markdown",
      "metadata": {
        "id": "ueBU-CoD4DRl"
      },
      "source": [
        "---\n",
        "**Novel AI Diffusion**"
      ]
    },
    {
      "cell_type": "code",
      "execution_count": null,
      "metadata": {
        "id": "KVrByTqBhOv-"
      },
      "outputs": [],
      "source": [
        "!apt install aria2\n",
        "!aria2c -d . --bt-metadata-only=true --bt-save-metadata=true --summary-interval=0 --file-allocation=none \"magnet:?xt=urn:btih:5bde442da86265b670a3e5ea3163afad2c6f8ecc&dn=novelaileak&tr=udp%3A%2F%2Ftracker.opentrackr.org%3A1337%2Fannounce&tr=udp%3A%2F%2F9.rarbg.com%3A2810%2Fannounce&tr=udp%3A%2F%2Ftracker.openbittorrent.com%3A6969%2Fannounce&tr=http%3A%2F%2Ftracker.openbittorrent.com%3A80%2Fannounce&tr=udp%3A%2F%2Fopentracker.i2p.rocks%3A6969%2Fannounce\"\n",
        "!aria2c --select-file=65,67,71,73,76,81,82,83,84,85,86,87,88,89,90,91,92,93 \"5bde442da86265b670a3e5ea3163afad2c6f8ecc.torrent\"\n",
        "!rm novelaileak/stableckpt/extra-sd-prune/sd-prune/anime700k-64bs-0.1ucg-penultimate-1epoch-clip-ema-continue-76000.pt # aria2 downloads this file even though I told it not to "
      ]
    },
    {
      "cell_type": "markdown",
      "source": [
        "*Stop manually when the download is complete*"
      ],
      "metadata": {
        "id": "GgFS544o6ouX"
      }
    },
    {
      "cell_type": "code",
      "execution_count": null,
      "metadata": {
        "id": "nVtW_w2m4VID"
      },
      "outputs": [],
      "source": [
        "!mv /content/stable-diffusion-webui/novelaileak/stableckpt/animevae.pt /content/stable-diffusion-webui/models/Stable-diffusion/\n",
        "!mv /content/stable-diffusion-webui/novelaileak/stableckpt/animefull-final-pruned/model.ckpt /content/stable-diffusion-webui/models/Stable-diffusion/\n",
        "!mv /content/stable-diffusion-webui/novelaileak/stableckpt/modules/modules/* /content/stable-diffusion-webui/modules/hypernetworks/.\n",
        "%cd /content/stable-diffusion-webui/models/Stable-diffusion/\n",
        "import os\n",
        "os.rename(\"model.ckpt\",\"NovelAI.ckpt\")\n",
        "os.rename(\"animevae.pt\",\"NovelAI.vae.pt\")\n",
        "!rm -r /content/stable-diffusion-webui/novelaileak/"
      ]
    },
    {
      "cell_type": "markdown",
      "metadata": {
        "id": "Z-2GS1BQ23L6"
      },
      "source": [
        "---\n",
        "**Anything V3**"
      ]
    },
    {
      "cell_type": "code",
      "execution_count": null,
      "metadata": {
        "id": "I356ZSNI3ZFH"
      },
      "outputs": [],
      "source": [
        "%cd /content/stable-diffusion-webui/models/Stable-diffusion/\n",
        "!wget https://huggingface.co/Linaqruf/anything-v3.0/resolve/main/Anything-V3.0-pruned.ckpt\n",
        "!wget https://huggingface.co/Linaqruf/anything-v3.0/resolve/main/Anything-V3.0.vae.pt\n",
        "import os\n",
        "os.rename(\"Anything-V3.0-pruned.ckpt\",\"Anything.ckpt\")\n",
        "os.rename(\"Anything-V3.0.vae.pt\",\"Anything.vae.pt\")"
      ]
    },
    {
      "cell_type": "markdown",
      "source": [
        "---\n",
        "\n",
        "**Elysium V2**"
      ],
      "metadata": {
        "id": "Wf0UTAt9cTYe"
      }
    },
    {
      "cell_type": "code",
      "source": [
        "%cd /content/stable-diffusion-webui/models/Stable-diffusion/\n",
        "!wget https://huggingface.co/hesw23168/SD-Elysium-Model/resolve/main/Elysium_Anime_V2.ckpt\n",
        "!wget https://huggingface.co/Linaqruf/anything-v3.0/resolve/main/Anything-V3.0.vae.pt\n",
        "import os \n",
        "os.rename(\"Anything-V3.0.vae.pt\",\"Elysium_Anime_V2.vae.pt\")"
      ],
      "metadata": {
        "id": "-RJRqO40cYsB",
        "colab": {
          "base_uri": "https://localhost:8080/"
        },
        "outputId": "478e7b59-32fd-4808-faad-8647a168705c"
      },
      "execution_count": 2,
      "outputs": [
        {
          "output_type": "stream",
          "name": "stdout",
          "text": [
            "/content/stable-diffusion-webui/models/Stable-diffusion\n",
            "--2022-12-02 23:50:07--  https://huggingface.co/hesw23168/SD-Elysium-Model/resolve/main/Elysium_Anime_V2.ckpt\n",
            "Resolving huggingface.co (huggingface.co)... 3.234.187.147, 54.147.99.175, 2600:1f18:147f:e800:3df1:c2fc:20aa:9b45, ...\n",
            "Connecting to huggingface.co (huggingface.co)|3.234.187.147|:443... connected.\n",
            "HTTP request sent, awaiting response... 302 Found\n",
            "Location: https://cdn-lfs.huggingface.co/repos/61/87/61878d9c42b9d74df54418a14354dab82b34d9f4846e1b7758f4a69d40acecbd/5c4787ce1386500ee05dbb9d27c17273c7a78493535f2603321f40f6e0796851?response-content-disposition=attachment%3B%20filename%3D%22Elysium_Anime_V2.ckpt%22&Expires=1670267077&Policy=eyJTdGF0ZW1lbnQiOlt7IlJlc291cmNlIjoiaHR0cHM6Ly9jZG4tbGZzLmh1Z2dpbmdmYWNlLmNvL3JlcG9zLzYxLzg3LzYxODc4ZDljNDJiOWQ3NGRmNTQ0MThhMTQzNTRkYWI4MmIzNGQ5ZjQ4NDZlMWI3NzU4ZjRhNjlkNDBhY2VjYmQvNWM0Nzg3Y2UxMzg2NTAwZWUwNWRiYjlkMjdjMTcyNzNjN2E3ODQ5MzUzNWYyNjAzMzIxZjQwZjZlMDc5Njg1MT9yZXNwb25zZS1jb250ZW50LWRpc3Bvc2l0aW9uPWF0dGFjaG1lbnQlM0IlMjBmaWxlbmFtZSUzRCUyMkVseXNpdW1fQW5pbWVfVjIuY2twdCUyMiIsIkNvbmRpdGlvbiI6eyJEYXRlTGVzc1RoYW4iOnsiQVdTOkVwb2NoVGltZSI6MTY3MDI2NzA3N319fV19&Signature=FcOc-MI27pOHxZPOVusds2Be2ZAgRV2qAeCHVeFa0cSKZz68Ul7h6j0GqGmyA-Bt3b8sfA-ccidta5Dxgesn1gQpBzh7q46FGcYCNryy4e3razySDjKu3eiMYgiwTtgKXQ7Nc2g8R6jy2ojnsN98yb1OOqqwoDYT-uXpZ6olw~9VQyO~9V6oJwnRpl4n9ich3yUbvAjBanTtyNHzfcZRzLSdfYpbaPOOe-CyAelJjT4UJOTNj7gYwNfUZEnyaA6AYyupZfwJJuuq70XhPqRNMB-9VvW94l3yYpMKeIvz1SlEfnanof56liIWoT3yy8tR6Q~qtinZW1HE5HSTDa4Jdg__&Key-Pair-Id=KVTP0A1DKRTAX [following]\n",
            "--2022-12-02 23:50:08--  https://cdn-lfs.huggingface.co/repos/61/87/61878d9c42b9d74df54418a14354dab82b34d9f4846e1b7758f4a69d40acecbd/5c4787ce1386500ee05dbb9d27c17273c7a78493535f2603321f40f6e0796851?response-content-disposition=attachment%3B%20filename%3D%22Elysium_Anime_V2.ckpt%22&Expires=1670267077&Policy=eyJTdGF0ZW1lbnQiOlt7IlJlc291cmNlIjoiaHR0cHM6Ly9jZG4tbGZzLmh1Z2dpbmdmYWNlLmNvL3JlcG9zLzYxLzg3LzYxODc4ZDljNDJiOWQ3NGRmNTQ0MThhMTQzNTRkYWI4MmIzNGQ5ZjQ4NDZlMWI3NzU4ZjRhNjlkNDBhY2VjYmQvNWM0Nzg3Y2UxMzg2NTAwZWUwNWRiYjlkMjdjMTcyNzNjN2E3ODQ5MzUzNWYyNjAzMzIxZjQwZjZlMDc5Njg1MT9yZXNwb25zZS1jb250ZW50LWRpc3Bvc2l0aW9uPWF0dGFjaG1lbnQlM0IlMjBmaWxlbmFtZSUzRCUyMkVseXNpdW1fQW5pbWVfVjIuY2twdCUyMiIsIkNvbmRpdGlvbiI6eyJEYXRlTGVzc1RoYW4iOnsiQVdTOkVwb2NoVGltZSI6MTY3MDI2NzA3N319fV19&Signature=FcOc-MI27pOHxZPOVusds2Be2ZAgRV2qAeCHVeFa0cSKZz68Ul7h6j0GqGmyA-Bt3b8sfA-ccidta5Dxgesn1gQpBzh7q46FGcYCNryy4e3razySDjKu3eiMYgiwTtgKXQ7Nc2g8R6jy2ojnsN98yb1OOqqwoDYT-uXpZ6olw~9VQyO~9V6oJwnRpl4n9ich3yUbvAjBanTtyNHzfcZRzLSdfYpbaPOOe-CyAelJjT4UJOTNj7gYwNfUZEnyaA6AYyupZfwJJuuq70XhPqRNMB-9VvW94l3yYpMKeIvz1SlEfnanof56liIWoT3yy8tR6Q~qtinZW1HE5HSTDa4Jdg__&Key-Pair-Id=KVTP0A1DKRTAX\n",
            "Resolving cdn-lfs.huggingface.co (cdn-lfs.huggingface.co)... 13.227.254.47, 13.227.254.52, 13.227.254.33, ...\n",
            "Connecting to cdn-lfs.huggingface.co (cdn-lfs.huggingface.co)|13.227.254.47|:443... connected.\n",
            "HTTP request sent, awaiting response... 200 OK\n",
            "Length: 4265327916 (4.0G) [binary/octet-stream]\n",
            "Saving to: ‘Elysium_Anime_V2.ckpt’\n",
            "\n",
            "Elysium_Anime_V2.ck 100%[===================>]   3.97G  75.8MB/s    in 54s     \n",
            "\n",
            "2022-12-02 23:51:02 (75.7 MB/s) - ‘Elysium_Anime_V2.ckpt’ saved [4265327916/4265327916]\n",
            "\n",
            "--2022-12-02 23:51:02--  https://huggingface.co/Linaqruf/anything-v3.0/resolve/main/Anything-V3.0.vae.pt\n",
            "Resolving huggingface.co (huggingface.co)... 3.234.187.147, 54.147.99.175, 2600:1f18:147f:e800:3df1:c2fc:20aa:9b45, ...\n",
            "Connecting to huggingface.co (huggingface.co)|3.234.187.147|:443... connected.\n",
            "HTTP request sent, awaiting response... 302 Found\n",
            "Location: https://cdn-lfs.huggingface.co/repos/1e/ef/1eefd55077badc87cd1798672a058b8d55aeab58e781be883f2ec0e0917679e3/f921fb3f29891d2a77a6571e56b8b5052420d2884129517a333c60b1b4816cdf?response-content-disposition=attachment%3B%20filename%3D%22Anything-V3.0.vae.pt%22&Expires=1670265021&Policy=eyJTdGF0ZW1lbnQiOlt7IlJlc291cmNlIjoiaHR0cHM6Ly9jZG4tbGZzLmh1Z2dpbmdmYWNlLmNvL3JlcG9zLzFlL2VmLzFlZWZkNTUwNzdiYWRjODdjZDE3OTg2NzJhMDU4YjhkNTVhZWFiNThlNzgxYmU4ODNmMmVjMGUwOTE3Njc5ZTMvZjkyMWZiM2YyOTg5MWQyYTc3YTY1NzFlNTZiOGI1MDUyNDIwZDI4ODQxMjk1MTdhMzMzYzYwYjFiNDgxNmNkZj9yZXNwb25zZS1jb250ZW50LWRpc3Bvc2l0aW9uPWF0dGFjaG1lbnQlM0IlMjBmaWxlbmFtZSUzRCUyMkFueXRoaW5nLVYzLjAudmFlLnB0JTIyIiwiQ29uZGl0aW9uIjp7IkRhdGVMZXNzVGhhbiI6eyJBV1M6RXBvY2hUaW1lIjoxNjcwMjY1MDIxfX19XX0_&Signature=SYEpNSMp0m72SYKlzgAc1B7B4ZmzFBrOfpeyRstE8BEXswaC0K04NYgi0VWjyhOkpyIvFJrS~3a6T6869fDNKXKOo4~iiOW23LtpwAcFGTVAbacld9h5zF2cvj9oTEqkN7VI~8IMo~QLQLbh1unByuWHdZxybBWHmY-yNe88Cm8xH~kTNf99c0Lo0gf~MwDExQAOc~PDlL7AzXGwFq4ScFLrjYNkCLu9E8~TH1FqC~MGin6kYjPSt5VQQ96NBr0O-A88upQ2bN3NtO-d7zfwlOD1D-ID5H6I8n6NCXKuohQ-89GtMnPV2ak~yG5FyTjsglfOa~u7bOP5JdAI4jf4fQ__&Key-Pair-Id=KVTP0A1DKRTAX [following]\n",
            "--2022-12-02 23:51:03--  https://cdn-lfs.huggingface.co/repos/1e/ef/1eefd55077badc87cd1798672a058b8d55aeab58e781be883f2ec0e0917679e3/f921fb3f29891d2a77a6571e56b8b5052420d2884129517a333c60b1b4816cdf?response-content-disposition=attachment%3B%20filename%3D%22Anything-V3.0.vae.pt%22&Expires=1670265021&Policy=eyJTdGF0ZW1lbnQiOlt7IlJlc291cmNlIjoiaHR0cHM6Ly9jZG4tbGZzLmh1Z2dpbmdmYWNlLmNvL3JlcG9zLzFlL2VmLzFlZWZkNTUwNzdiYWRjODdjZDE3OTg2NzJhMDU4YjhkNTVhZWFiNThlNzgxYmU4ODNmMmVjMGUwOTE3Njc5ZTMvZjkyMWZiM2YyOTg5MWQyYTc3YTY1NzFlNTZiOGI1MDUyNDIwZDI4ODQxMjk1MTdhMzMzYzYwYjFiNDgxNmNkZj9yZXNwb25zZS1jb250ZW50LWRpc3Bvc2l0aW9uPWF0dGFjaG1lbnQlM0IlMjBmaWxlbmFtZSUzRCUyMkFueXRoaW5nLVYzLjAudmFlLnB0JTIyIiwiQ29uZGl0aW9uIjp7IkRhdGVMZXNzVGhhbiI6eyJBV1M6RXBvY2hUaW1lIjoxNjcwMjY1MDIxfX19XX0_&Signature=SYEpNSMp0m72SYKlzgAc1B7B4ZmzFBrOfpeyRstE8BEXswaC0K04NYgi0VWjyhOkpyIvFJrS~3a6T6869fDNKXKOo4~iiOW23LtpwAcFGTVAbacld9h5zF2cvj9oTEqkN7VI~8IMo~QLQLbh1unByuWHdZxybBWHmY-yNe88Cm8xH~kTNf99c0Lo0gf~MwDExQAOc~PDlL7AzXGwFq4ScFLrjYNkCLu9E8~TH1FqC~MGin6kYjPSt5VQQ96NBr0O-A88upQ2bN3NtO-d7zfwlOD1D-ID5H6I8n6NCXKuohQ-89GtMnPV2ak~yG5FyTjsglfOa~u7bOP5JdAI4jf4fQ__&Key-Pair-Id=KVTP0A1DKRTAX\n",
            "Resolving cdn-lfs.huggingface.co (cdn-lfs.huggingface.co)... 54.192.150.69, 54.192.150.19, 54.192.150.84, ...\n",
            "Connecting to cdn-lfs.huggingface.co (cdn-lfs.huggingface.co)|54.192.150.69|:443... connected.\n",
            "HTTP request sent, awaiting response... 200 OK\n",
            "Length: 822802803 (785M) [binary/octet-stream]\n",
            "Saving to: ‘Anything-V3.0.vae.pt’\n",
            "\n",
            "Anything-V3.0.vae.p 100%[===================>] 784.69M   191MB/s    in 4.2s    \n",
            "\n",
            "2022-12-02 23:51:07 (187 MB/s) - ‘Anything-V3.0.vae.pt’ saved [822802803/822802803]\n",
            "\n"
          ]
        }
      ]
    },
    {
      "cell_type": "markdown",
      "source": [
        "---\n",
        "**RedShift V1**"
      ],
      "metadata": {
        "id": "dbJUku_jNZBH"
      }
    },
    {
      "cell_type": "code",
      "source": [
        "%cd /content/stable-diffusion-webui/models/Stable-diffusion/\n",
        "!wget https://huggingface.co/nitrosocke/redshift-diffusion/resolve/main/redshift-diffusion-v1.ckpt\n",
        "!wget https://huggingface.co/Linaqruf/anything-v3.0/resolve/main/Anything-V3.0.vae.pt\n",
        "import os\n",
        "os.rename(\"redshift-diffusion-v1.ckpt\",\"RedShift-v1.ckpt\") \n",
        "os.rename(\"Anything-V3.0.vae.pt\",\"RedShift-v1.vae.pt\")"
      ],
      "metadata": {
        "colab": {
          "base_uri": "https://localhost:8080/"
        },
        "id": "Vx8z5Nv7NgCW",
        "outputId": "52563db9-5c75-4b3d-ea53-a4df22192f95"
      },
      "execution_count": 3,
      "outputs": [
        {
          "output_type": "stream",
          "name": "stdout",
          "text": [
            "/content/stable-diffusion-webui/models/Stable-diffusion\n",
            "--2022-12-02 23:51:08--  https://huggingface.co/nitrosocke/redshift-diffusion/resolve/main/redshift-diffusion-v1.ckpt\n",
            "Resolving huggingface.co (huggingface.co)... 3.234.187.147, 54.147.99.175, 2600:1f18:147f:e800:3df1:c2fc:20aa:9b45, ...\n",
            "Connecting to huggingface.co (huggingface.co)|3.234.187.147|:443... connected.\n",
            "HTTP request sent, awaiting response... 302 Found\n",
            "Location: https://cdn-lfs.huggingface.co/repos/f9/94/f994b3c22335ff1da58427af0c5507d3ea287245fb5e686b97aefdf4bb771918/ed8c2ee43268932a420f5db00b105881770a19c0afd0d35876330e2bbdcce426?response-content-disposition=attachment%3B%20filename%3D%22redshift-diffusion-v1.ckpt%22&Expires=1670266295&Policy=eyJTdGF0ZW1lbnQiOlt7IlJlc291cmNlIjoiaHR0cHM6Ly9jZG4tbGZzLmh1Z2dpbmdmYWNlLmNvL3JlcG9zL2Y5Lzk0L2Y5OTRiM2MyMjMzNWZmMWRhNTg0MjdhZjBjNTUwN2QzZWEyODcyNDVmYjVlNjg2Yjk3YWVmZGY0YmI3NzE5MTgvZWQ4YzJlZTQzMjY4OTMyYTQyMGY1ZGIwMGIxMDU4ODE3NzBhMTljMGFmZDBkMzU4NzYzMzBlMmJiZGNjZTQyNj9yZXNwb25zZS1jb250ZW50LWRpc3Bvc2l0aW9uPWF0dGFjaG1lbnQlM0IlMjBmaWxlbmFtZSUzRCUyMnJlZHNoaWZ0LWRpZmZ1c2lvbi12MS5ja3B0JTIyIiwiQ29uZGl0aW9uIjp7IkRhdGVMZXNzVGhhbiI6eyJBV1M6RXBvY2hUaW1lIjoxNjcwMjY2Mjk1fX19XX0_&Signature=aT6ClNQ4nJEKFMNHJj7c0I~Gd4wWssFrbVke8pXt0qR0yx-mUW3XpNnr4k~DaRosptRUZ-gvDJb3NJ1eSvI7urBFuMro~D8MTxNyd-lGRF8ItTnYAL028AVZqgxg1fkpkZU0MUGX-~IfGDNsnORl~S1mJH84yCU3yrzMeGnrTyCZyHk~dDzitkIojhDhh7cZnKM6e1oPGisb0djKpPY39QgkPPFrbO-pEfPgcKcWlVFJO-yQrl07wQtM-9TEpIhAeVFHbropUrPGIwYGYlg2JuAEh-Ssp4yt1hRkVp2a98do2JY04DMJK4bFoZnGgRGua8FEMNQ-9HVWVN32mRqJSQ__&Key-Pair-Id=KVTP0A1DKRTAX [following]\n",
            "--2022-12-02 23:51:09--  https://cdn-lfs.huggingface.co/repos/f9/94/f994b3c22335ff1da58427af0c5507d3ea287245fb5e686b97aefdf4bb771918/ed8c2ee43268932a420f5db00b105881770a19c0afd0d35876330e2bbdcce426?response-content-disposition=attachment%3B%20filename%3D%22redshift-diffusion-v1.ckpt%22&Expires=1670266295&Policy=eyJTdGF0ZW1lbnQiOlt7IlJlc291cmNlIjoiaHR0cHM6Ly9jZG4tbGZzLmh1Z2dpbmdmYWNlLmNvL3JlcG9zL2Y5Lzk0L2Y5OTRiM2MyMjMzNWZmMWRhNTg0MjdhZjBjNTUwN2QzZWEyODcyNDVmYjVlNjg2Yjk3YWVmZGY0YmI3NzE5MTgvZWQ4YzJlZTQzMjY4OTMyYTQyMGY1ZGIwMGIxMDU4ODE3NzBhMTljMGFmZDBkMzU4NzYzMzBlMmJiZGNjZTQyNj9yZXNwb25zZS1jb250ZW50LWRpc3Bvc2l0aW9uPWF0dGFjaG1lbnQlM0IlMjBmaWxlbmFtZSUzRCUyMnJlZHNoaWZ0LWRpZmZ1c2lvbi12MS5ja3B0JTIyIiwiQ29uZGl0aW9uIjp7IkRhdGVMZXNzVGhhbiI6eyJBV1M6RXBvY2hUaW1lIjoxNjcwMjY2Mjk1fX19XX0_&Signature=aT6ClNQ4nJEKFMNHJj7c0I~Gd4wWssFrbVke8pXt0qR0yx-mUW3XpNnr4k~DaRosptRUZ-gvDJb3NJ1eSvI7urBFuMro~D8MTxNyd-lGRF8ItTnYAL028AVZqgxg1fkpkZU0MUGX-~IfGDNsnORl~S1mJH84yCU3yrzMeGnrTyCZyHk~dDzitkIojhDhh7cZnKM6e1oPGisb0djKpPY39QgkPPFrbO-pEfPgcKcWlVFJO-yQrl07wQtM-9TEpIhAeVFHbropUrPGIwYGYlg2JuAEh-Ssp4yt1hRkVp2a98do2JY04DMJK4bFoZnGgRGua8FEMNQ-9HVWVN32mRqJSQ__&Key-Pair-Id=KVTP0A1DKRTAX\n",
            "Resolving cdn-lfs.huggingface.co (cdn-lfs.huggingface.co)... 54.192.150.69, 54.192.150.19, 54.192.150.84, ...\n",
            "Connecting to cdn-lfs.huggingface.co (cdn-lfs.huggingface.co)|54.192.150.69|:443... connected.\n",
            "HTTP request sent, awaiting response... 200 OK\n",
            "Length: 2132856622 (2.0G) [binary/octet-stream]\n",
            "Saving to: ‘redshift-diffusion-v1.ckpt’\n",
            "\n",
            "redshift-diffusion- 100%[===================>]   1.99G  90.1MB/s    in 23s     \n",
            "\n",
            "2022-12-02 23:51:31 (89.5 MB/s) - ‘redshift-diffusion-v1.ckpt’ saved [2132856622/2132856622]\n",
            "\n",
            "--2022-12-02 23:51:31--  https://huggingface.co/Linaqruf/anything-v3.0/resolve/main/Anything-V3.0.vae.pt\n",
            "Resolving huggingface.co (huggingface.co)... 3.234.187.147, 54.147.99.175, 2600:1f18:147f:e800:3df1:c2fc:20aa:9b45, ...\n",
            "Connecting to huggingface.co (huggingface.co)|3.234.187.147|:443... connected.\n",
            "HTTP request sent, awaiting response... 302 Found\n",
            "Location: https://cdn-lfs.huggingface.co/repos/1e/ef/1eefd55077badc87cd1798672a058b8d55aeab58e781be883f2ec0e0917679e3/f921fb3f29891d2a77a6571e56b8b5052420d2884129517a333c60b1b4816cdf?response-content-disposition=attachment%3B%20filename%3D%22Anything-V3.0.vae.pt%22&Expires=1670264682&Policy=eyJTdGF0ZW1lbnQiOlt7IlJlc291cmNlIjoiaHR0cHM6Ly9jZG4tbGZzLmh1Z2dpbmdmYWNlLmNvL3JlcG9zLzFlL2VmLzFlZWZkNTUwNzdiYWRjODdjZDE3OTg2NzJhMDU4YjhkNTVhZWFiNThlNzgxYmU4ODNmMmVjMGUwOTE3Njc5ZTMvZjkyMWZiM2YyOTg5MWQyYTc3YTY1NzFlNTZiOGI1MDUyNDIwZDI4ODQxMjk1MTdhMzMzYzYwYjFiNDgxNmNkZj9yZXNwb25zZS1jb250ZW50LWRpc3Bvc2l0aW9uPWF0dGFjaG1lbnQlM0IlMjBmaWxlbmFtZSUzRCUyMkFueXRoaW5nLVYzLjAudmFlLnB0JTIyIiwiQ29uZGl0aW9uIjp7IkRhdGVMZXNzVGhhbiI6eyJBV1M6RXBvY2hUaW1lIjoxNjcwMjY0NjgyfX19XX0_&Signature=ta-5JPTfGM~5vJcskl815f47KU9z2m6PDo2pfo1988OZ85TM-M8Q-f2mnfypwgKrJ0nBLdXLn2Z5Dp7AyQjCwcKa2YndAXRmgbVTnqEaJmmEj8H9nt77ORXpmtpgLzkG1Q3AoXiZO3qqu1Oi~CuB~Zev1v71Z9ICHC6nggweD9L3aNIUwgkg1p6rUzlNUyzFg~fyd6gGd4VID6OX56W-fWXFffB0ZddeD1kGSrfMlVrEdzQAPuAvxBVs7h-PVgpY~OraY2W5pey~5u~xAGemfBQuenmWH5Rpa3G0zWW~lF2K8J9X3rmZH9muKojHoHk3Uk-zMU51FDJq20zW0-5Q6A__&Key-Pair-Id=KVTP0A1DKRTAX [following]\n",
            "--2022-12-02 23:51:32--  https://cdn-lfs.huggingface.co/repos/1e/ef/1eefd55077badc87cd1798672a058b8d55aeab58e781be883f2ec0e0917679e3/f921fb3f29891d2a77a6571e56b8b5052420d2884129517a333c60b1b4816cdf?response-content-disposition=attachment%3B%20filename%3D%22Anything-V3.0.vae.pt%22&Expires=1670264682&Policy=eyJTdGF0ZW1lbnQiOlt7IlJlc291cmNlIjoiaHR0cHM6Ly9jZG4tbGZzLmh1Z2dpbmdmYWNlLmNvL3JlcG9zLzFlL2VmLzFlZWZkNTUwNzdiYWRjODdjZDE3OTg2NzJhMDU4YjhkNTVhZWFiNThlNzgxYmU4ODNmMmVjMGUwOTE3Njc5ZTMvZjkyMWZiM2YyOTg5MWQyYTc3YTY1NzFlNTZiOGI1MDUyNDIwZDI4ODQxMjk1MTdhMzMzYzYwYjFiNDgxNmNkZj9yZXNwb25zZS1jb250ZW50LWRpc3Bvc2l0aW9uPWF0dGFjaG1lbnQlM0IlMjBmaWxlbmFtZSUzRCUyMkFueXRoaW5nLVYzLjAudmFlLnB0JTIyIiwiQ29uZGl0aW9uIjp7IkRhdGVMZXNzVGhhbiI6eyJBV1M6RXBvY2hUaW1lIjoxNjcwMjY0NjgyfX19XX0_&Signature=ta-5JPTfGM~5vJcskl815f47KU9z2m6PDo2pfo1988OZ85TM-M8Q-f2mnfypwgKrJ0nBLdXLn2Z5Dp7AyQjCwcKa2YndAXRmgbVTnqEaJmmEj8H9nt77ORXpmtpgLzkG1Q3AoXiZO3qqu1Oi~CuB~Zev1v71Z9ICHC6nggweD9L3aNIUwgkg1p6rUzlNUyzFg~fyd6gGd4VID6OX56W-fWXFffB0ZddeD1kGSrfMlVrEdzQAPuAvxBVs7h-PVgpY~OraY2W5pey~5u~xAGemfBQuenmWH5Rpa3G0zWW~lF2K8J9X3rmZH9muKojHoHk3Uk-zMU51FDJq20zW0-5Q6A__&Key-Pair-Id=KVTP0A1DKRTAX\n",
            "Resolving cdn-lfs.huggingface.co (cdn-lfs.huggingface.co)... 54.192.150.69, 54.192.150.19, 54.192.150.84, ...\n",
            "Connecting to cdn-lfs.huggingface.co (cdn-lfs.huggingface.co)|54.192.150.69|:443... connected.\n",
            "HTTP request sent, awaiting response... 200 OK\n",
            "Length: 822802803 (785M) [binary/octet-stream]\n",
            "Saving to: ‘Anything-V3.0.vae.pt’\n",
            "\n",
            "Anything-V3.0.vae.p 100%[===================>] 784.69M   260MB/s    in 3.0s    \n",
            "\n",
            "2022-12-02 23:51:35 (260 MB/s) - ‘Anything-V3.0.vae.pt’ saved [822802803/822802803]\n",
            "\n"
          ]
        }
      ]
    },
    {
      "cell_type": "markdown",
      "source": [
        "---\n",
        "**Background Diffusion**"
      ],
      "metadata": {
        "id": "M3cryXiVPQh0"
      }
    },
    {
      "cell_type": "code",
      "source": [
        "%cd /content/stable-diffusion-webui/models/Stable-diffusion/\n",
        "!wget https://huggingface.co/ProGamerGov/Min-Illust-Background-Diffusion/resolve/main/sjh_style_v1_iter2250.ckpt\n",
        "import os \n",
        "os.rename(\"sjh_style_v1_iter2250.ckpt\",\"Background-Diffusion.ckpt\")"
      ],
      "metadata": {
        "colab": {
          "base_uri": "https://localhost:8080/"
        },
        "id": "v4O8EtWGPVXb",
        "outputId": "bb561f35-50b3-4a57-ed4d-8e659e12f24c"
      },
      "execution_count": 4,
      "outputs": [
        {
          "output_type": "stream",
          "name": "stdout",
          "text": [
            "/content/stable-diffusion-webui/models/Stable-diffusion\n",
            "--2022-12-02 23:51:35--  https://huggingface.co/ProGamerGov/Min-Illust-Background-Diffusion/resolve/main/sjh_style_v1_iter2250.ckpt\n",
            "Resolving huggingface.co (huggingface.co)... 54.147.99.175, 3.234.187.147, 2600:1f18:147f:e800:3df1:c2fc:20aa:9b45, ...\n",
            "Connecting to huggingface.co (huggingface.co)|54.147.99.175|:443... connected.\n",
            "HTTP request sent, awaiting response... 302 Found\n",
            "Location: https://cdn-lfs.huggingface.co/repos/67/27/67272ecdc862a3bb357c85eda2b707c94e00c1ec1df1748157c7ec862b711b6b/087c14338e131470775d85e3c6d7ff6984bddc514766929d6519afc6c2d930a5?response-content-disposition=attachment%3B%20filename%3D%22sjh_style_v1_iter2250.ckpt%22&Expires=1670284297&Policy=eyJTdGF0ZW1lbnQiOlt7IlJlc291cmNlIjoiaHR0cHM6Ly9jZG4tbGZzLmh1Z2dpbmdmYWNlLmNvL3JlcG9zLzY3LzI3LzY3MjcyZWNkYzg2MmEzYmIzNTdjODVlZGEyYjcwN2M5NGUwMGMxZWMxZGYxNzQ4MTU3YzdlYzg2MmI3MTFiNmIvMDg3YzE0MzM4ZTEzMTQ3MDc3NWQ4NWUzYzZkN2ZmNjk4NGJkZGM1MTQ3NjY5MjlkNjUxOWFmYzZjMmQ5MzBhNT9yZXNwb25zZS1jb250ZW50LWRpc3Bvc2l0aW9uPWF0dGFjaG1lbnQlM0IlMjBmaWxlbmFtZSUzRCUyMnNqaF9zdHlsZV92MV9pdGVyMjI1MC5ja3B0JTIyIiwiQ29uZGl0aW9uIjp7IkRhdGVMZXNzVGhhbiI6eyJBV1M6RXBvY2hUaW1lIjoxNjcwMjg0Mjk3fX19XX0_&Signature=obe5bCQMpGWB6nHfCnvbBM-Porx-gFT0~3qHhuJieFiqqjPR1O7pK5fI96IHrtGpq3YHonOZLu9lg-ylViV-kwFmqye-vCQ6V81GHU4o5d7UeZXxEuHmIdcll3iYvxNOmKS~7KVa~nqz9dG1U5OuzwgFdmcF1q6EYg9w99NPML~l6I9gjUee8gP1Gw1GWS9nVZ54SRaz05pWbi7TeJ8Hkkezpk4AV17IYMPH6hGgSessAp~OHMfXGhUwoYZPQ7jkIMlc75CKs7JtHf8GeIqQ29oaAW3TznJ3-X8RCRc5PavDzV6gLwvLMj3goKn~VKP-TjQxG-WYiFm3NBY2fZTlxA__&Key-Pair-Id=KVTP0A1DKRTAX [following]\n",
            "--2022-12-02 23:51:36--  https://cdn-lfs.huggingface.co/repos/67/27/67272ecdc862a3bb357c85eda2b707c94e00c1ec1df1748157c7ec862b711b6b/087c14338e131470775d85e3c6d7ff6984bddc514766929d6519afc6c2d930a5?response-content-disposition=attachment%3B%20filename%3D%22sjh_style_v1_iter2250.ckpt%22&Expires=1670284297&Policy=eyJTdGF0ZW1lbnQiOlt7IlJlc291cmNlIjoiaHR0cHM6Ly9jZG4tbGZzLmh1Z2dpbmdmYWNlLmNvL3JlcG9zLzY3LzI3LzY3MjcyZWNkYzg2MmEzYmIzNTdjODVlZGEyYjcwN2M5NGUwMGMxZWMxZGYxNzQ4MTU3YzdlYzg2MmI3MTFiNmIvMDg3YzE0MzM4ZTEzMTQ3MDc3NWQ4NWUzYzZkN2ZmNjk4NGJkZGM1MTQ3NjY5MjlkNjUxOWFmYzZjMmQ5MzBhNT9yZXNwb25zZS1jb250ZW50LWRpc3Bvc2l0aW9uPWF0dGFjaG1lbnQlM0IlMjBmaWxlbmFtZSUzRCUyMnNqaF9zdHlsZV92MV9pdGVyMjI1MC5ja3B0JTIyIiwiQ29uZGl0aW9uIjp7IkRhdGVMZXNzVGhhbiI6eyJBV1M6RXBvY2hUaW1lIjoxNjcwMjg0Mjk3fX19XX0_&Signature=obe5bCQMpGWB6nHfCnvbBM-Porx-gFT0~3qHhuJieFiqqjPR1O7pK5fI96IHrtGpq3YHonOZLu9lg-ylViV-kwFmqye-vCQ6V81GHU4o5d7UeZXxEuHmIdcll3iYvxNOmKS~7KVa~nqz9dG1U5OuzwgFdmcF1q6EYg9w99NPML~l6I9gjUee8gP1Gw1GWS9nVZ54SRaz05pWbi7TeJ8Hkkezpk4AV17IYMPH6hGgSessAp~OHMfXGhUwoYZPQ7jkIMlc75CKs7JtHf8GeIqQ29oaAW3TznJ3-X8RCRc5PavDzV6gLwvLMj3goKn~VKP-TjQxG-WYiFm3NBY2fZTlxA__&Key-Pair-Id=KVTP0A1DKRTAX\n",
            "Resolving cdn-lfs.huggingface.co (cdn-lfs.huggingface.co)... 54.192.150.69, 54.192.150.19, 54.192.150.84, ...\n",
            "Connecting to cdn-lfs.huggingface.co (cdn-lfs.huggingface.co)|54.192.150.69|:443... connected.\n",
            "HTTP request sent, awaiting response... 200 OK\n",
            "Length: 4265327726 (4.0G) [binary/octet-stream]\n",
            "Saving to: ‘sjh_style_v1_iter2250.ckpt’\n",
            "\n",
            "sjh_style_v1_iter22 100%[===================>]   3.97G  13.8MB/s    in 4m 26s  \n",
            "\n",
            "2022-12-02 23:56:03 (15.3 MB/s) - ‘sjh_style_v1_iter2250.ckpt’ saved [4265327726/4265327726]\n",
            "\n"
          ]
        }
      ]
    },
    {
      "cell_type": "markdown",
      "metadata": {
        "id": "-B2cgObw469U"
      },
      "source": [
        "---\n",
        "***Install extensions & Deploy StableDiffusion***"
      ]
    },
    {
      "cell_type": "code",
      "execution_count": null,
      "metadata": {
        "id": "fUqmh4pmhWBM",
        "colab": {
          "base_uri": "https://localhost:8080/"
        },
        "outputId": "10d7c7bc-30f3-44fa-f2fa-882cd8d004cb"
      },
      "outputs": [
        {
          "output_type": "stream",
          "name": "stdout",
          "text": [
            "/content/stable-diffusion-webui/extensions\n",
            "Cloning into 'novelai-2-local-prompt'...\n",
            "remote: Enumerating objects: 51, done.\u001b[K\n",
            "remote: Counting objects: 100% (51/51), done.\u001b[K\n",
            "remote: Compressing objects: 100% (46/46), done.\u001b[K\n",
            "remote: Total 51 (delta 15), reused 3 (delta 0), pack-reused 0\u001b[K\n",
            "Unpacking objects: 100% (51/51), done.\n",
            "/content/stable-diffusion-webui\n",
            "Python 3.8.15 (default, Oct 12 2022, 19:14:39) \n",
            "[GCC 7.5.0]\n",
            "Commit hash: 4b3c5bc24bffdf429c463a465763b3077fe55eb8\n",
            "Installing gfpgan\n",
            "Installing open_clip\n"
          ]
        }
      ],
      "source": [
        "%cd /content/stable-diffusion-webui/extensions\n",
        "#!git clone https://github.com/adieyal/sd-dynamic-prompts\n",
        "#!git clone https://github.com/d8ahazard/sd_dreambooth_extension\n",
        "#!git clone https://github.com/d8ahazard/sd_smartprocess\n",
        "#!git clone https://github.com/DominikDoom/a1111-sd-webui-tagcomplete\n",
        "!git clone https://github.com/animerl/novelai-2-local-prompt\n",
        "#!git clone https://github.com/deforum-art/deforum-for-automatic1111-webui\n",
        "%cd /content/stable-diffusion-webui\n",
        "!COMMANDLINE_ARGS=\"--share --gradio-debug --deepdanbooru\" REQS_FILE=\"requirements.txt\" python launch.py"
      ]
    }
  ],
  "metadata": {
    "accelerator": "GPU",
    "colab": {
      "provenance": []
    },
    "gpuClass": "standard",
    "kernelspec": {
      "display_name": "Python 3",
      "name": "python3"
    },
    "language_info": {
      "name": "python"
    }
  },
  "nbformat": 4,
  "nbformat_minor": 0
}