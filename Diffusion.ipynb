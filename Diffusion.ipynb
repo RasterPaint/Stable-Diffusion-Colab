{
  "cells": [
    {
      "cell_type": "markdown",
      "source": [
        "Install dependencies"
      ],
      "metadata": {
        "id": "xDTQubA56GFm"
      }
    },
    {
      "cell_type": "code",
      "execution_count": null,
      "metadata": {
        "id": "yrtUXwfdg5gV"
      },
      "outputs": [],
      "source": [
        "!pip install -e git+https://github.com/CompVis/taming-transformers.git@master#egg=taming-transformers\n",
        "!pip install pytorch_lightning tensorboard omegaconf einops taming-transformers clip transformers kornia test-tube\n",
        "!pip install diffusers invisible-watermark"
      ]
    },
    {
      "cell_type": "markdown",
      "metadata": {
        "id": "w2Hp_J7b5HIw"
      },
      "source": [
        "*\"restart session\"を押す*\n",
        "\n",
        "---\n",
        "**Install stable diffusion webui**\n",
        "\n"
      ]
    },
    {
      "cell_type": "code",
      "execution_count": null,
      "metadata": {
        "id": "sXVs8rCy4AjR"
      },
      "outputs": [],
      "source": [
        "!git clone https://github.com/AUTOMATIC1111/stable-diffusion-webui /content/stable-diffusion-webui\n",
        "%cd /content/stable-diffusion-webui\n",
        "!git pull"
      ]
    },
    {
      "cell_type": "markdown",
      "metadata": {
        "id": "ueBU-CoD4DRl"
      },
      "source": [
        "---\n",
        "**Novel AI Diffusion**"
      ]
    },
    {
      "cell_type": "code",
      "execution_count": null,
      "metadata": {
        "id": "KVrByTqBhOv-"
      },
      "outputs": [],
      "source": [
        "!apt install aria2\n",
        "!aria2c -d . --bt-metadata-only=true --bt-save-metadata=true --summary-interval=0 --file-allocation=none \"magnet:?xt=urn:btih:5bde442da86265b670a3e5ea3163afad2c6f8ecc&dn=novelaileak&tr=udp%3A%2F%2Ftracker.opentrackr.org%3A1337%2Fannounce&tr=udp%3A%2F%2F9.rarbg.com%3A2810%2Fannounce&tr=udp%3A%2F%2Ftracker.openbittorrent.com%3A6969%2Fannounce&tr=http%3A%2F%2Ftracker.openbittorrent.com%3A80%2Fannounce&tr=udp%3A%2F%2Fopentracker.i2p.rocks%3A6969%2Fannounce\"\n",
        "!aria2c --select-file=65,67,71,73,76,81,82,83,84,85,86,87,88,89,90,91,92,93 \"5bde442da86265b670a3e5ea3163afad2c6f8ecc.torrent\"\n",
        "!rm novelaileak/stableckpt/extra-sd-prune/sd-prune/anime700k-64bs-0.1ucg-penultimate-1epoch-clip-ema-continue-76000.pt # aria2 downloads this file even though I told it not to "
      ]
    },
    {
      "cell_type": "markdown",
      "source": [
        "*ダウンロード終わっても止まってくれないので手動でストップ。ストップしたら下のセル実行*"
      ],
      "metadata": {
        "id": "GgFS544o6ouX"
      }
    },
    {
      "cell_type": "code",
      "execution_count": null,
      "metadata": {
        "id": "nVtW_w2m4VID"
      },
      "outputs": [],
      "source": [
        "!mv /content/stable-diffusion-webui/novelaileak/stableckpt/animevae.pt /content/stable-diffusion-webui/models/Stable-diffusion/\n",
        "!mv /content/stable-diffusion-webui/novelaileak/stableckpt/animefull-final-pruned/model.ckpt /content/stable-diffusion-webui/models/Stable-diffusion/\n",
        "!mv /content/stable-diffusion-webui/novelaileak/stableckpt/modules/modules/* /content/stable-diffusion-webui/modules/hypernetworks/.\n",
        "%cd /content/stable-diffusion-webui/models/Stable-diffusion/\n",
        "import os\n",
        "os.rename(\"model.ckpt\",\"NovelAI.ckpt\")\n",
        "os.rename(\"animevae.pt\",\"NovelAI.vae.pt\")\n",
        "!rm -r /content/stable-diffusion-webui/novelaileak/"
      ]
    },
    {
      "cell_type": "markdown",
      "metadata": {
        "id": "Z-2GS1BQ23L6"
      },
      "source": [
        "---\n",
        "**Anything V4**"
      ]
    },
    {
      "cell_type": "code",
      "execution_count": null,
      "metadata": {
        "id": "I356ZSNI3ZFH"
      },
      "outputs": [],
      "source": [
        "%cd /content/stable-diffusion-webui/models/Stable-diffusion/\n",
        "!wget https://huggingface.co/andite/anything-v4.0/resolve/main/anything-v4.5-pruned.ckpt\n",
        "!wget https://huggingface.co/andite/anything-v4.0/resolve/main/anything-v4.0.vae.pt\n",
        "import os\n",
        "os.rename(\"anything-v4.5-pruned.ckpt\",\"Anything.ckpt\")\n",
        "os.rename(\"anything-v4.0.vae.pt\",\"Anything.vae.pt\")"
      ]
    },
    {
      "cell_type": "markdown",
      "source": [
        "---\n",
        "\n",
        "**Elysium Anime V2**"
      ],
      "metadata": {
        "id": "Wf0UTAt9cTYe"
      }
    },
    {
      "cell_type": "code",
      "source": [
        "%cd /content/stable-diffusion-webui/models/Stable-diffusion/\n",
        "!wget https://huggingface.co/hesw23168/SD-Elysium-Model/resolve/main/Elysium_Anime_V2.ckpt"
      ],
      "metadata": {
        "id": "-RJRqO40cYsB"
      },
      "execution_count": null,
      "outputs": []
    },
    {
      "cell_type": "markdown",
      "source": [
        "---\n",
        "**Elysium V1**"
      ],
      "metadata": {
        "id": "KjEd7RqUtIc3"
      }
    },
    {
      "cell_type": "code",
      "source": [
        "%cd /content/stable-diffusion-webui/models/Stable-diffusion/\n",
        "!wget https://huggingface.co/hesw23168/SD-Elysium-Model/resolve/main/Elysium_V1.ckpt"
      ],
      "metadata": {
        "id": "LExHOLGotLiQ"
      },
      "execution_count": null,
      "outputs": []
    },
    {
      "cell_type": "markdown",
      "source": [
        "---\n",
        "**Waifu Diffusion 1.3.5**"
      ],
      "metadata": {
        "id": "FItUp9f3slcE"
      }
    },
    {
      "cell_type": "code",
      "source": [
        "%cd /content/stable-diffusion-webui/models/Stable-diffusion/\n",
        "!wget https://huggingface.co/hakurei/waifu-diffusion-v1-4/resolve/main/models/wd-1-4-float32-booru-110k.ckpt"
      ],
      "metadata": {
        "id": "iAiAVV_0skiS"
      },
      "execution_count": null,
      "outputs": []
    },
    {
      "cell_type": "markdown",
      "source": [
        "---\n",
        "**Anything of F222**"
      ],
      "metadata": {
        "id": "ZP4BaiNIk3z1"
      }
    },
    {
      "cell_type": "code",
      "source": [
        "%cd /content/stable-diffusion-webui/models/Stable-diffusion/\n",
        "!wget https://huggingface.co/m4gnett/anything-of-f222/resolve/main/Anything-of-f222-v1.0.ckpt"
      ],
      "metadata": {
        "id": "L6m54md8k7rY"
      },
      "execution_count": null,
      "outputs": []
    },
    {
      "cell_type": "markdown",
      "source": [
        "---\n",
        " **F222**"
      ],
      "metadata": {
        "id": "c97FtqfdiBGj"
      }
    },
    {
      "cell_type": "code",
      "source": [
        "%cd /content/stable-diffusion-webui/models/Stable-diffusion/\n",
        "!wget https://huggingface.co/acheong08/f222/resolve/main/f222.ckpt"
      ],
      "metadata": {
        "id": "zGvP6TSniJNW"
      },
      "execution_count": null,
      "outputs": []
    },
    {
      "cell_type": "markdown",
      "source": [
        "---\n",
        "**Anything Gape**"
      ],
      "metadata": {
        "id": "J0KKRpe6vBNA"
      }
    },
    {
      "cell_type": "code",
      "source": [
        "%cd /content/stable-diffusion-webui/models/Stable-diffusion/\n",
        "!wget https://huggingface.co/KuroiMatoO/anything-gape/resolve/main/AnythingGape-fp16.ckpt"
      ],
      "metadata": {
        "id": "T4NZIkKxvIhr"
      },
      "execution_count": null,
      "outputs": []
    },
    {
      "cell_type": "markdown",
      "source": [
        "---\n",
        "**ACertainThing**"
      ],
      "metadata": {
        "id": "SMBYSTDEveuH"
      }
    },
    {
      "cell_type": "code",
      "source": [
        "%cd /content/stable-diffusion-webui/models/Stable-diffusion/\n",
        "!wget https://huggingface.co/JosephusCheung/ACertainThing/resolve/main/ACertainThing.ckpt"
      ],
      "metadata": {
        "id": "o8vcfiuYvlvH"
      },
      "execution_count": null,
      "outputs": []
    },
    {
      "cell_type": "markdown",
      "metadata": {
        "id": "-B2cgObw469U"
      },
      "source": [
        "---\n",
        "***Install extensions & Deploy StableDiffusion***"
      ]
    },
    {
      "cell_type": "code",
      "source": [
        "%cd /content/stable-diffusion-webui/extensions\n",
        "#!git clone https://github.com/adieyal/sd-dynamic-prompts\n",
        "#!git clone https://github.com/d8ahazard/sd_dreambooth_extension\n",
        "#!git clone https://github.com/d8ahazard/sd_smartprocess\n",
        "#!git clone https://github.com/DominikDoom/a1111-sd-webui-tagcomplete\n",
        "!git clone https://github.com/animerl/novelai-2-local-prompt\n",
        "#!git clone https://github.com/deforum-art/deforum-for-automatic1111-webui\n",
        "%cd /content/stable-diffusion-webui\n",
        "!COMMANDLINE_ARGS=\"--share --gradio-debug\" REQS_FILE=\"requirements.txt\" python launch.py"
      ],
      "metadata": {
        "id": "IFbu-uSkdE5W"
      },
      "execution_count": null,
      "outputs": []
    }
  ],
  "metadata": {
    "accelerator": "GPU",
    "colab": {
      "provenance": []
    },
    "gpuClass": "standard",
    "kernelspec": {
      "display_name": "Python 3",
      "name": "python3"
    },
    "language_info": {
      "name": "python"
    }
  },
  "nbformat": 4,
  "nbformat_minor": 0
}
