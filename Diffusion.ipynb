{
  "cells": [
    {
      "cell_type": "code",
      "execution_count": null,
      "metadata": {
        "id": "yrtUXwfdg5gV"
      },
      "outputs": [],
      "source": [
        "!pip install -e git+https://github.com/CompVis/taming-transformers.git@master#egg=taming-transformers\n",
        "!pip install pytorch_lightning tensorboard==2.9.1 omegaconf einops taming-transformers==0.0.1 clip transformers kornia test-tube\n",
        "!pip install diffusers invisible-watermark"
      ]
    },
    {
      "cell_type": "markdown",
      "metadata": {
        "id": "w2Hp_J7b5HIw"
      },
      "source": [
        "*push \"restart session\"*"
      ]
    },
    {
      "cell_type": "code",
      "execution_count": null,
      "metadata": {
        "id": "sXVs8rCy4AjR"
      },
      "outputs": [],
      "source": [
        "!git clone https://github.com/AUTOMATIC1111/stable-diffusion-webui /content/stable-diffusion-webui\n",
        "%cd /content/stable-diffusion-webui\n",
        "!git pull"
      ]
    },
    {
      "cell_type": "markdown",
      "metadata": {
        "id": "ueBU-CoD4DRl"
      },
      "source": [
        "**Novel AI Diffusion**"
      ]
    },
    {
      "cell_type": "code",
      "execution_count": null,
      "metadata": {
        "id": "KVrByTqBhOv-"
      },
      "outputs": [],
      "source": [
        "!apt install aria2\n",
        "!aria2c -d . --bt-metadata-only=true --bt-save-metadata=true --summary-interval=0 --file-allocation=none \"magnet:?xt=urn:btih:5bde442da86265b670a3e5ea3163afad2c6f8ecc&dn=novelaileak&tr=udp%3A%2F%2Ftracker.opentrackr.org%3A1337%2Fannounce&tr=udp%3A%2F%2F9.rarbg.com%3A2810%2Fannounce&tr=udp%3A%2F%2Ftracker.openbittorrent.com%3A6969%2Fannounce&tr=http%3A%2F%2Ftracker.openbittorrent.com%3A80%2Fannounce&tr=udp%3A%2F%2Fopentracker.i2p.rocks%3A6969%2Fannounce\"\n",
        "!aria2c --select-file=65,67,71,73,76,81,82,83,84,85,86,87,88,89,90,91,92,93 \"5bde442da86265b670a3e5ea3163afad2c6f8ecc.torrent\"\n",
        "!rm novelaileak/stableckpt/extra-sd-prune/sd-prune/anime700k-64bs-0.1ucg-penultimate-1epoch-clip-ema-continue-76000.pt # aria2 downloads this file even though I told it not to "
      ]
    },
    {
      "cell_type": "code",
      "execution_count": null,
      "metadata": {
        "id": "nVtW_w2m4VID"
      },
      "outputs": [],
      "source": [
        "!mv /content/stable-diffusion-webui/novelaileak/stableckpt/animevae.pt /content/stable-diffusion-webui/models/Stable-diffusion/\n",
        "!mv /content/stable-diffusion-webui/novelaileak/stableckpt/animefull-final-pruned/model.ckpt /content/stable-diffusion-webui/models/Stable-diffusion/\n",
        "%cd /content/stable-diffusion-webui/models/Stable-diffusion/\n",
        "import os\n",
        "os.rename(\"model.ckpt\",\"NovelAI.ckpt\")\n",
        "os.rename(\"animevae.pt\",\"NovelAI.vae.pt\")\n",
        "!rm -r /content/stable-diffusion-webui/novelaileak/"
      ]
    },
    {
      "cell_type": "markdown",
      "metadata": {
        "id": "Z-2GS1BQ23L6"
      },
      "source": [
        "**Anything V3**"
      ]
    },
    {
      "cell_type": "code",
      "execution_count": null,
      "metadata": {
        "id": "I356ZSNI3ZFH"
      },
      "outputs": [],
      "source": [
        "%cd /content/stable-diffusion-webui/models/Stable-diffusion/\n",
        "!wget https://huggingface.co/Linaqruf/anything-v3.0/resolve/main/Anything-V3.0-pruned.ckpt\n",
        "!wget https://huggingface.co/Linaqruf/anything-v3.0/resolve/main/Anything-V3.0.vae.pt\n",
        "import os\n",
        "os.rename(\"Anything-V3.0-pruned.ckpt\",\"Anything.ckpt\")\n",
        "os.rename(\"Anything-V3.0.vae.pt\",\"Anything.vae.pt\")"
      ]
    },
    {
      "cell_type": "markdown",
      "metadata": {
        "id": "-B2cgObw469U"
      },
      "source": [
        "***Deploy StableDiffusion***"
      ]
    },
    {
      "cell_type": "code",
      "execution_count": null,
      "metadata": {
        "colab": {
          "background_save": true
        },
        "id": "fUqmh4pmhWBM"
      },
      "outputs": [],
      "source": [
        "%cd /content/stable-diffusion-webui\n",
        "!COMMANDLINE_ARGS=\"--share --gradio-debug --deepdanbooru\" REQS_FILE=\"requirements.txt\" python launch.py"
      ]
    }
  ],
  "metadata": {
    "accelerator": "GPU",
    "colab": {
      "provenance": [],
      "authorship_tag": "ABX9TyNUlg9kY/qmcRgjViqIpMm4"
    },
    "gpuClass": "standard",
    "kernelspec": {
      "display_name": "Python 3",
      "name": "python3"
    },
    "language_info": {
      "name": "python"
    }
  },
  "nbformat": 4,
  "nbformat_minor": 0
}
