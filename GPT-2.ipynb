{
  "nbformat": 4,
  "nbformat_minor": 0,
  "metadata": {
    "colab": {
      "provenance": [],
      "authorship_tag": "ABX9TyMgwww006ZONxIXnSyh5Gh6"
    },
    "kernelspec": {
      "name": "python3",
      "display_name": "Python 3"
    },
    "language_info": {
      "name": "python"
    }
  },
  "cells": [
    {
      "cell_type": "code",
      "execution_count": null,
      "metadata": {
        "id": "Qkkyi_XPiwBk"
      },
      "outputs": [],
      "source": [
        "!pip install transformers==4.4.2\n",
        "!pip install sentencepiece==0.1.91"
      ]
    },
    {
      "cell_type": "code",
      "source": [
        "from transformers import T5Tokenizer, AutoModelForCausalLM\n",
        "\n",
        "# トークン分割\n",
        "tokenizer = T5Tokenizer.from_pretrained(\"rinna/japanese-gpt2-medium\", )\n",
        "# りんなの学習済みモデルを読み込み\n",
        "model = AutoModelForCausalLM.from_pretrained(\"rinna/japanese-gpt2-medium\")"
      ],
      "metadata": {
        "id": "2ez5SMfziyr1"
      },
      "execution_count": null,
      "outputs": []
    },
    {
      "cell_type": "code",
      "source": [
        "# 推論の実行。文の途中からGPTが文を生成する。\n",
        "text = \"\"\n",
        "input = tokenizer.encode(text, return_tensors=\"pt\")\n",
        "output = model.generate(input, do_sample=True, max_length=200, num_return_sequences=1)\n",
        "print(tokenizer.batch_decode(output))"
      ],
      "metadata": {
        "id": "skaG4dxbi3kQ"
      },
      "execution_count": null,
      "outputs": []
    }
  ]
}