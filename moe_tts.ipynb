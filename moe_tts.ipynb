{
  "nbformat": 4,
  "nbformat_minor": 0,
  "metadata": {
    "colab": {
      "provenance": []
    },
    "kernelspec": {
      "name": "python3",
      "display_name": "Python 3"
    },
    "language_info": {
      "name": "python"
    }
  },
  "cells": [
    {
      "cell_type": "markdown",
      "source": [
        "## Download & Setup"
      ],
      "metadata": {
        "id": "dTV72OQhPvKP"
      }
    },
    {
      "cell_type": "code",
      "execution_count": null,
      "metadata": {
        "id": "sxNLArCOOpIJ"
      },
      "outputs": [],
      "source": [
        "!apt install git-lfs\n",
        "!git lfs install\n",
        "!git clone https://huggingface.co/spaces/skytnt/moe-tts"
      ]
    },
    {
      "cell_type": "code",
      "source": [
        "%cd moe-tts"
      ],
      "metadata": {
        "id": "xy-W7W5HPNmp"
      },
      "execution_count": null,
      "outputs": []
    },
    {
      "cell_type": "code",
      "source": [
        "!pip install -r requirements.txt"
      ],
      "metadata": {
        "id": "zLv95n_QPdMJ"
      },
      "execution_count": null,
      "outputs": []
    },
    {
      "cell_type": "markdown",
      "source": [
        "## Run"
      ],
      "metadata": {
        "id": "2PgafbHaP2KH"
      }
    },
    {
      "cell_type": "code",
      "source": [
        "!python app.py --share"
      ],
      "metadata": {
        "id": "39IkQGwCP72B"
      },
      "execution_count": null,
      "outputs": []
    }
  ]
}